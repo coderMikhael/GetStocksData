{
  "cells": [
    {
      "cell_type": "code",
      "execution_count": 9,
      "metadata": {
        "id": "3nlIx-Z9s7Hx",
        "colab": {
          "base_uri": "https://localhost:8080/",
          "height": 393
        },
        "outputId": "f24fa5e4-0904-465e-f8c3-e140d047d01b"
      },
      "outputs": [
        {
          "output_type": "stream",
          "name": "stdout",
          "text": [
            "Collecting anvil-uplink\n",
            "  Downloading anvil_uplink-0.5.1-py2.py3-none-any.whl.metadata (1.5 kB)\n",
            "Collecting argparse (from anvil-uplink)\n",
            "  Downloading argparse-1.4.0-py2.py3-none-any.whl.metadata (2.8 kB)\n",
            "Requirement already satisfied: future in /usr/local/lib/python3.10/dist-packages (from anvil-uplink) (1.0.0)\n",
            "Requirement already satisfied: six in /usr/local/lib/python3.10/dist-packages (from anvil-uplink) (1.16.0)\n",
            "Collecting ws4py-sslupdate (from anvil-uplink)\n",
            "  Downloading ws4py_sslupdate-0.5.1b0-py2.py3-none-any.whl.metadata (1.7 kB)\n",
            "Downloading anvil_uplink-0.5.1-py2.py3-none-any.whl (95 kB)\n",
            "\u001b[2K   \u001b[90m━━━━━━━━━━━━━━━━━━━━━━━━━━━━━━━━━━━━━━━━\u001b[0m \u001b[32m95.9/95.9 kB\u001b[0m \u001b[31m1.8 MB/s\u001b[0m eta \u001b[36m0:00:00\u001b[0m\n",
            "\u001b[?25hDownloading argparse-1.4.0-py2.py3-none-any.whl (23 kB)\n",
            "Downloading ws4py_sslupdate-0.5.1b0-py2.py3-none-any.whl (45 kB)\n",
            "\u001b[2K   \u001b[90m━━━━━━━━━━━━━━━━━━━━━━━━━━━━━━━━━━━━━━━━\u001b[0m \u001b[32m45.8/45.8 kB\u001b[0m \u001b[31m3.3 MB/s\u001b[0m eta \u001b[36m0:00:00\u001b[0m\n",
            "\u001b[?25hInstalling collected packages: ws4py-sslupdate, argparse, anvil-uplink\n",
            "Successfully installed anvil-uplink-0.5.1 argparse-1.4.0 ws4py-sslupdate-0.5.1b0\n"
          ]
        },
        {
          "output_type": "display_data",
          "data": {
            "application/vnd.colab-display-data+json": {
              "pip_warning": {
                "packages": [
                  "argparse",
                  "google"
                ]
              },
              "id": "76c1a759c0d74911afe6775d5ae6999d"
            }
          },
          "metadata": {}
        }
      ],
      "source": [
        "!pip install anvil-uplink\n"
      ]
    },
    {
      "cell_type": "code",
      "source": [
        "import anvil.server\n",
        "\n",
        "anvil.server.connect(\"server_YUTRYL5ICILRADZZ6PHPBQI5-SXV2Q52D2VAPG6ZT\")"
      ],
      "metadata": {
        "colab": {
          "base_uri": "https://localhost:8080/"
        },
        "id": "wGp0NIpGk11y",
        "outputId": "cecb0da5-5093-4206-ad6d-78779fce3cca"
      },
      "execution_count": 2,
      "outputs": [
        {
          "output_type": "stream",
          "name": "stdout",
          "text": [
            "Connecting to wss://anvil.works/uplink\n",
            "Anvil websocket open\n",
            "Connected to \"Default Environment\" as SERVER\n"
          ]
        }
      ]
    },
    {
      "cell_type": "code",
      "execution_count": 8,
      "metadata": {
        "colab": {
          "base_uri": "https://localhost:8080/"
        },
        "id": "-t5xcnOvspCl",
        "outputId": "452f0195-2779-4dd4-fe4e-c159fc721697"
      },
      "outputs": [
        {
          "output_type": "stream",
          "name": "stdout",
          "text": [
            "Less than 12 hours since last run.\n",
            "Values have been updated in last 12 hours.\n",
            "Sorted by P/E.\n",
            "No duplicates found.\n",
            "Drive already mounted at /content/drive; to attempt to forcibly remount, call drive.mount(\"/content/drive\", force_remount=True).\n",
            "Google Drive Mounted.\n",
            "File saved to Drive.\n",
            "Execution Complete.\n"
          ]
        }
      ],
      "source": [
        "import pandas as pd\n",
        "import NseIndia\n",
        "from nselib import capital_market\n",
        "from datetime import date, datetime, timedelta\n",
        "from dateutil.relativedelta import relativedelta\n",
        "import warnings\n",
        "import os\n",
        "from google.colab import drive\n",
        "import shutil\n",
        "\n",
        "\n",
        "warnings.filterwarnings('ignore')\n",
        "\n",
        "def fetchStockData(symbol):\n",
        "    nse = NseIndia.NSE()\n",
        "    start_day = date.today()\n",
        "    end_day = start_day - relativedelta(months=3)\n",
        "    start_day = start_day.strftime(\"%d-%m-%Y\")\n",
        "    end_day = end_day.strftime(\"%d-%m-%Y\")\n",
        "\n",
        "    data = capital_market.price_volume_and_deliverable_position_data(symbol, end_day, start_day)\n",
        "    df = pd.DataFrame(data)\n",
        "    vol_list = df['TotalTradedQuantity'].tail(10)\n",
        "    vol_list = vol_list.str.replace(',', '').astype(float)\n",
        "\n",
        "    newd1 = nse.equity_info(symbol)\n",
        "    newd2 = nse.equity_extra_info(symbol)\n",
        "\n",
        "    ltp = newd1['priceInfo']['lastPrice']\n",
        "    high = newd1['priceInfo']['intraDayHighLow']['max']\n",
        "    low = newd1['priceInfo']['intraDayHighLow']['min']\n",
        "    prevclose = newd1['priceInfo']['previousClose']\n",
        "    change = round(ltp - prevclose, 2)  # Rounded to 2 decimal places\n",
        "    avgvol = vol_list.mean()\n",
        "    delp = df.iloc[-1]['%DlyQttoTradedQty']\n",
        "    if delp == '-':\n",
        "        delp = 0\n",
        "    sympe = newd2['metadata']['pdSymbolPe']\n",
        "    _3monHigh = df['ClosePrice'].max()\n",
        "    _3monLow = df['ClosePrice'].min()\n",
        "\n",
        "    stockData = {\n",
        "        \"Symbol\": symbol,\n",
        "        \"LTP\": ltp,\n",
        "        \"High\": high,\n",
        "        \"Low\": low,\n",
        "        \"PreviousClose\": prevclose,\n",
        "        \"Change\": float(change),  # Ensure Change is float\n",
        "        \"Last 10D avg Volume\": avgvol,\n",
        "        \"Delivery %\": delp,\n",
        "        \"Symbol P/E\": sympe,\n",
        "        \"3 months high\": _3monHigh,\n",
        "        \"3 months low\": _3monLow\n",
        "    }\n",
        "    print(f\"Done with {symbol}.\")\n",
        "    return stockData\n",
        "\n",
        "def save_stock_data(symbol_list):\n",
        "    for symbol in symbol_list:\n",
        "        data = fetchStockData(symbol)\n",
        "        df = pd.DataFrame([data])\n",
        "        df.to_csv('stock_data.csv', mode='a', header=not os.path.exists('stock_data.csv'), index=False)\n",
        "        print(f\"Data for {symbol} saved to stock_data.csv\")\n",
        "\n",
        "def save_timestamp():\n",
        "    with open('timestamp.txt', 'w') as f:\n",
        "        f.write(datetime.now().isoformat())\n",
        "\n",
        "def load_timestamp():\n",
        "    if os.path.exists('timestamp.txt'):\n",
        "        with open('timestamp.txt', 'r') as f:\n",
        "            return datetime.fromisoformat(f.read().strip())\n",
        "    return None\n",
        "\n",
        "def sort_by_pe():\n",
        "    df = pd.read_csv('stock_data.csv')\n",
        "    df_sorted = df.sort_values(by='Symbol P/E')\n",
        "    df_sorted.to_csv('stock_data.csv', index=False)\n",
        "    print(\"Sorted by P/E.\")\n",
        "\n",
        "def main():\n",
        "    with open('symbol_list.txt', 'r') as f:\n",
        "        symbol_list = [line.strip() for line in f.readlines()]\n",
        "\n",
        "    last_timestamp = load_timestamp()\n",
        "    if last_timestamp and datetime.now() - last_timestamp < timedelta(hours=12):\n",
        "        print(\"Less than 12 hours since last run.\")\n",
        "        if os.path.exists('stock_data.csv'):\n",
        "            try:\n",
        "                df = pd.read_csv('stock_data.csv')\n",
        "                if not df.empty:\n",
        "                    last_symbol = df['Symbol'].iloc[-1]\n",
        "                    if symbol_list[-1] in df['Symbol'].values:\n",
        "                      print(\"Values have been updated in last 12 hours.\")\n",
        "                      symbol_list=[]\n",
        "                    elif last_symbol in symbol_list:\n",
        "                        symbol_list = symbol_list[symbol_list.index(last_symbol) + 1:]\n",
        "            except pd.errors.EmptyDataError:\n",
        "                pd.DataFrame(columns=[\"Symbol\", \"LTP\", \"High\", \"Low\", \"PreviousClose\", \"Change\", \"Last 10D avg Volume\", \"Delivery %\", \"Symbol P/E\", \"3 months high\", \"3 months low\"]).to_csv('stock_data.csv', index=False)\n",
        "\n",
        "\n",
        "    else:\n",
        "        print(\"More than 12 hours since last run, clearing stock_data.csv.\")\n",
        "        if os.path.exists('stock_data.csv'):\n",
        "            os.remove('stock_data.csv')\n",
        "        save_timestamp()\n",
        "\n",
        "    save_stock_data(symbol_list)\n",
        "\n",
        "\n",
        "def remove_duplicates(csv_file_path):\n",
        "    df = pd.read_csv(csv_file_path)\n",
        "    df_cleaned = df.drop_duplicates(subset='Symbol', keep='first')\n",
        "    df_cleaned.to_csv(csv_file_path, index=False)\n",
        "    print(f\"Duplicates removed and cleaned data saved to {csv_file_path}\")\n",
        "\n",
        "if __name__ == \"__main__\":\n",
        "    main()\n",
        "    with open('symbol_list.txt', 'r') as f:\n",
        "        sym_list = [line.strip() for line in f.readlines()]\n",
        "    if os.path.exists('stock_data.csv'):\n",
        "        try:\n",
        "            df = pd.read_csv('stock_data.csv')\n",
        "            if set(sym_list) == set(df['Symbol']):\n",
        "                sort_by_pe()\n",
        "        except pd.errors.EmptyDataError:\n",
        "            pass\n",
        "\n",
        "    df = pd.read_csv('stock_data.csv')\n",
        "    duplicates = df[df.duplicated(subset=['Symbol'], keep=False)]\n",
        "    if not duplicates.empty:\n",
        "      remove_duplicates('stock_data.csv')\n",
        "    else:\n",
        "        print(\"No duplicates found.\")\n",
        "\n",
        "    drive.mount('/content/drive')\n",
        "    print(\"Google Drive Mounted.\")\n",
        "    saveTo = '/content/drive/My Drive/StocksData/stock_data.csv'\n",
        "    saveFrom = 'stock_data.csv'\n",
        "    shutil.copy2(saveFrom, saveTo)\n",
        "    print(\"File saved to Drive.\")\n",
        "\n",
        "    print(\"Execution Complete.\")\n"
      ]
    }
  ],
  "metadata": {
    "colab": {
      "provenance": []
    },
    "kernelspec": {
      "display_name": "Python 3",
      "name": "python3"
    },
    "language_info": {
      "name": "python"
    }
  },
  "nbformat": 4,
  "nbformat_minor": 0
}